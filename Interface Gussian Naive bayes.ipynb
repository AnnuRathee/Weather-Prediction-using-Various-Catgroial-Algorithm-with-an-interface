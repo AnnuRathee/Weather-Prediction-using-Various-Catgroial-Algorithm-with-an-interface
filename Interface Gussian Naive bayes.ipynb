{
 "cells": [
  {
   "cell_type": "code",
   "execution_count": 11,
   "id": "ac9a935c",
   "metadata": {},
   "outputs": [
    {
     "name": "stdout",
     "output_type": "stream",
     "text": [
      "Model Accuracy: 74.96%\n",
      "Model saved as 'gaussian_naive_bayes_model.pkl'\n"
     ]
    }
   ],
   "source": [
    "# Importing required libraries\n",
    "import numpy as np\n",
    "import pandas as pd\n",
    "from sklearn.model_selection import train_test_split\n",
    "from sklearn.naive_bayes import GaussianNB\n",
    "import pickle\n",
    "\n",
    "# Load your dataset\n",
    "# Replace 'weather_classification_data.csv' with your dataset file\n",
    "data = pd.read_csv('weather_classification_data.csv')\n",
    "\n",
    "# Feature selection\n",
    "# Replace 'features' and 'target' with the actual column names\n",
    "X = data[['Temperature', 'Humidity', 'Wind Speed']]\n",
    "y = data['Weather Type']\n",
    "\n",
    "# Splitting the dataset\n",
    "X_train, X_test, y_train, y_test = train_test_split(X, y, test_size=0.2, random_state=42)\n",
    "\n",
    "# Initialize the GaussianNB model\n",
    "model = GaussianNB()\n",
    "\n",
    "# Train the model\n",
    "model.fit(X_train, y_train)\n",
    "\n",
    "# Evaluate the model\n",
    "accuracy = model.score(X_test, y_test)\n",
    "print(f\"Model Accuracy: {accuracy * 100:.2f}%\")\n",
    "\n",
    "# Save the model\n",
    "with open('gaussian_naive_bayes_model.pkl', 'wb') as f:\n",
    "    pickle.dump(model, f)\n",
    "print(\"Model saved as 'gaussian_naive_bayes_model.pkl'\")\n"
   ]
  },
  {
   "cell_type": "code",
   "execution_count": null,
   "id": "83067611",
   "metadata": {},
   "outputs": [],
   "source": []
  }
 ],
 "metadata": {
  "kernelspec": {
   "display_name": "Python 3 (ipykernel)",
   "language": "python",
   "name": "python3"
  },
  "language_info": {
   "codemirror_mode": {
    "name": "ipython",
    "version": 3
   },
   "file_extension": ".py",
   "mimetype": "text/x-python",
   "name": "python",
   "nbconvert_exporter": "python",
   "pygments_lexer": "ipython3",
   "version": "3.11.5"
  }
 },
 "nbformat": 4,
 "nbformat_minor": 5
}
